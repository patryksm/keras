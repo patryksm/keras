{
 "cells": [
  {
   "cell_type": "code",
   "execution_count": null,
   "metadata": {},
   "outputs": [],
   "source": [
    "import gym\n",
    "import time\n",
    "import numpy as np"
   ]
  },
  {
   "cell_type": "code",
   "execution_count": null,
   "metadata": {},
   "outputs": [],
   "source": [
    "ENV_NAME = 'CartPole-v0'\n",
    "env = gym.make(ENV_NAME)"
   ]
  },
  {
   "cell_type": "code",
   "execution_count": null,
   "metadata": {},
   "outputs": [],
   "source": [
    "env.reset()\n",
    "for i in range(1000):\n",
    "    env.render()\n",
    "    env.step(env.action_space.sample())\n",
    "    \n",
    "# Had to add time.sleep in order to prevent python from crashing.    \n",
    "    time.sleep(0.02)\n",
    "    \n",
    "    if i%10==0: print(i)\n",
    "#    print(obs)\n",
    "env.close()"
   ]
  },
  {
   "cell_type": "code",
   "execution_count": null,
   "metadata": {},
   "outputs": [],
   "source": [
    "np.random.seed(1)\n",
    "env.seed(1)"
   ]
  },
  {
   "cell_type": "code",
   "execution_count": null,
   "metadata": {},
   "outputs": [],
   "source": [
    "hi_rew = 0\n",
    "best_weights = None"
   ]
  },
  {
   "cell_type": "code",
   "execution_count": null,
   "metadata": {},
   "outputs": [],
   "source": [
    "for i in range(200):\n",
    "    obs = env.reset()\n",
    "    weights = np.random.uniform(-1, 1, 4)\n",
    "    sum_rew = 0\n",
    "    for j in range(1000):\n",
    "        env.render()\n",
    "        action = 0 if np.matmul(weights, obs) < 0 else 1\n",
    "        obs, rew, done, info = env.step(action)\n",
    "        sum_rew += rew\n",
    "        print(i, j, weights, obs, action, sum_rew, best_weights)\n",
    "    if sum_rew > hi_rew:\n",
    "        hi_rew = sum_rew\n",
    "        best_weights = weights\n",
    "    time.sleep(0.02)\n",
    "env.close()"
   ]
  },
  {
   "cell_type": "code",
   "execution_count": null,
   "metadata": {},
   "outputs": [],
   "source": [
    "print(hi_rew, best_weights)"
   ]
  },
  {
   "cell_type": "code",
   "execution_count": null,
   "metadata": {},
   "outputs": [],
   "source": [
    "obs = env.reset()\n",
    "for j in range(100):\n",
    "    env.render()\n",
    "    action = 0 if np.matmul(weights, obs) < 0 else 1\n",
    "    obs, rew, done, info = env.step(action)\n",
    "    print(j, action)\n",
    "env.close()"
   ]
  },
  {
   "cell_type": "code",
   "execution_count": null,
   "metadata": {},
   "outputs": [],
   "source": []
  }
 ],
 "metadata": {
  "kernelspec": {
   "display_name": "Python 3",
   "language": "python",
   "name": "python3"
  },
  "language_info": {
   "codemirror_mode": {
    "name": "ipython",
    "version": 3
   },
   "file_extension": ".py",
   "mimetype": "text/x-python",
   "name": "python",
   "nbconvert_exporter": "python",
   "pygments_lexer": "ipython3",
   "version": "3.7.4"
  }
 },
 "nbformat": 4,
 "nbformat_minor": 2
}
