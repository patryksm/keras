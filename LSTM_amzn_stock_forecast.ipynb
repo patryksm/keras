{
 "cells": [
  {
   "cell_type": "code",
   "execution_count": 30,
   "metadata": {},
   "outputs": [
    {
     "name": "stderr",
     "output_type": "stream",
     "text": [
      "Using TensorFlow backend.\n"
     ]
    }
   ],
   "source": [
    "import pandas as pd\n",
    "import matplotlib.pyplot as plt\n",
    "import numpy as np\n",
    "from sklearn.preprocessing import MinMaxScaler\n",
    "from keras.models import Sequential\n",
    "from keras.layers import LSTM, Dense"
   ]
  },
  {
   "cell_type": "code",
   "execution_count": 3,
   "metadata": {},
   "outputs": [],
   "source": [
    "data = pd.read_csv('.\\data\\AMZN.csv',\n",
    "                  header=0,\n",
    "                  usecols=['Date', 'Close'],\n",
    "                  parse_dates=True,\n",
    "                  index_col='Date')"
   ]
  },
  {
   "cell_type": "code",
   "execution_count": 6,
   "metadata": {},
   "outputs": [
    {
     "name": "stdout",
     "output_type": "stream",
     "text": [
      "<class 'pandas.core.frame.DataFrame'>\n",
      "DatetimeIndex: 4778 entries, 2000-09-05 to 2019-09-03\n",
      "Data columns (total 1 columns):\n",
      "Close    4778 non-null float64\n",
      "dtypes: float64(1)\n",
      "memory usage: 74.7 KB\n"
     ]
    }
   ],
   "source": [
    "data.info()"
   ]
  },
  {
   "cell_type": "code",
   "execution_count": 5,
   "metadata": {},
   "outputs": [
    {
     "data": {
      "text/html": [
       "<div>\n",
       "<style scoped>\n",
       "    .dataframe tbody tr th:only-of-type {\n",
       "        vertical-align: middle;\n",
       "    }\n",
       "\n",
       "    .dataframe tbody tr th {\n",
       "        vertical-align: top;\n",
       "    }\n",
       "\n",
       "    .dataframe thead th {\n",
       "        text-align: right;\n",
       "    }\n",
       "</style>\n",
       "<table border=\"1\" class=\"dataframe\">\n",
       "  <thead>\n",
       "    <tr style=\"text-align: right;\">\n",
       "      <th></th>\n",
       "      <th>Close</th>\n",
       "    </tr>\n",
       "    <tr>\n",
       "      <th>Date</th>\n",
       "      <th></th>\n",
       "    </tr>\n",
       "  </thead>\n",
       "  <tbody>\n",
       "    <tr>\n",
       "      <th>2000-09-05</th>\n",
       "      <td>45.6875</td>\n",
       "    </tr>\n",
       "    <tr>\n",
       "      <th>2000-09-06</th>\n",
       "      <td>45.8750</td>\n",
       "    </tr>\n",
       "    <tr>\n",
       "      <th>2000-09-07</th>\n",
       "      <td>43.5000</td>\n",
       "    </tr>\n",
       "    <tr>\n",
       "      <th>2000-09-08</th>\n",
       "      <td>42.9375</td>\n",
       "    </tr>\n",
       "    <tr>\n",
       "      <th>2000-09-11</th>\n",
       "      <td>42.3750</td>\n",
       "    </tr>\n",
       "  </tbody>\n",
       "</table>\n",
       "</div>"
      ],
      "text/plain": [
       "              Close\n",
       "Date               \n",
       "2000-09-05  45.6875\n",
       "2000-09-06  45.8750\n",
       "2000-09-07  43.5000\n",
       "2000-09-08  42.9375\n",
       "2000-09-11  42.3750"
      ]
     },
     "execution_count": 5,
     "metadata": {},
     "output_type": "execute_result"
    }
   ],
   "source": [
    "data.head()"
   ]
  },
  {
   "cell_type": "code",
   "execution_count": 7,
   "metadata": {},
   "outputs": [
    {
     "data": {
      "text/html": [
       "<div>\n",
       "<style scoped>\n",
       "    .dataframe tbody tr th:only-of-type {\n",
       "        vertical-align: middle;\n",
       "    }\n",
       "\n",
       "    .dataframe tbody tr th {\n",
       "        vertical-align: top;\n",
       "    }\n",
       "\n",
       "    .dataframe thead th {\n",
       "        text-align: right;\n",
       "    }\n",
       "</style>\n",
       "<table border=\"1\" class=\"dataframe\">\n",
       "  <thead>\n",
       "    <tr style=\"text-align: right;\">\n",
       "      <th></th>\n",
       "      <th>Close</th>\n",
       "    </tr>\n",
       "  </thead>\n",
       "  <tbody>\n",
       "    <tr>\n",
       "      <th>count</th>\n",
       "      <td>4778.000000</td>\n",
       "    </tr>\n",
       "    <tr>\n",
       "      <th>mean</th>\n",
       "      <td>347.354770</td>\n",
       "    </tr>\n",
       "    <tr>\n",
       "      <th>std</th>\n",
       "      <td>493.947565</td>\n",
       "    </tr>\n",
       "    <tr>\n",
       "      <th>min</th>\n",
       "      <td>5.970000</td>\n",
       "    </tr>\n",
       "    <tr>\n",
       "      <th>25%</th>\n",
       "      <td>40.102499</td>\n",
       "    </tr>\n",
       "    <tr>\n",
       "      <th>50%</th>\n",
       "      <td>125.889999</td>\n",
       "    </tr>\n",
       "    <tr>\n",
       "      <th>75%</th>\n",
       "      <td>372.090004</td>\n",
       "    </tr>\n",
       "    <tr>\n",
       "      <th>max</th>\n",
       "      <td>2039.510010</td>\n",
       "    </tr>\n",
       "  </tbody>\n",
       "</table>\n",
       "</div>"
      ],
      "text/plain": [
       "             Close\n",
       "count  4778.000000\n",
       "mean    347.354770\n",
       "std     493.947565\n",
       "min       5.970000\n",
       "25%      40.102499\n",
       "50%     125.889999\n",
       "75%     372.090004\n",
       "max    2039.510010"
      ]
     },
     "execution_count": 7,
     "metadata": {},
     "output_type": "execute_result"
    }
   ],
   "source": [
    "data.describe()"
   ]
  },
  {
   "cell_type": "code",
   "execution_count": 9,
   "metadata": {},
   "outputs": [
    {
     "name": "stderr",
     "output_type": "stream",
     "text": [
      "C:\\Users\\Patryk\\Anaconda3\\lib\\site-packages\\pandas\\plotting\\_matplotlib\\converter.py:102: FutureWarning: Using an implicitly registered datetime converter for a matplotlib plotting method. The converter was registered by pandas on import. Future versions of pandas will require you to explicitly register matplotlib converters.\n",
      "\n",
      "To register the converters:\n",
      "\t>>> from pandas.plotting import register_matplotlib_converters\n",
      "\t>>> register_matplotlib_converters()\n",
      "  warnings.warn(msg, FutureWarning)\n"
     ]
    },
    {
     "data": {
      "text/plain": [
       "[<matplotlib.lines.Line2D at 0x29e46da5188>]"
      ]
     },
     "execution_count": 9,
     "metadata": {},
     "output_type": "execute_result"
    },
    {
     "data": {
      "image/png": "[encoded data removed]",
      "text/plain": [
       "<Figure size 720x360 with 1 Axes>"
      ]
     },
     "metadata": {
      "needs_background": "light"
     },
     "output_type": "display_data"
    }
   ],
   "source": [
    "plt.figure(figsize=(10, 5))\n",
    "plt.plot(data)"
   ]
  },
  {
   "cell_type": "code",
   "execution_count": 11,
   "metadata": {},
   "outputs": [],
   "source": [
    "dataPCh = data.pct_change()"
   ]
  },
  {
   "cell_type": "code",
   "execution_count": 12,
   "metadata": {},
   "outputs": [],
   "source": [
    "log_returns = np.log(1 + dataPCh)"
   ]
  },
  {
   "cell_type": "code",
   "execution_count": 13,
   "metadata": {},
   "outputs": [
    {
     "data": {
      "text/html": [
       "<div>\n",
       "<style scoped>\n",
       "    .dataframe tbody tr th:only-of-type {\n",
       "        vertical-align: middle;\n",
       "    }\n",
       "\n",
       "    .dataframe tbody tr th {\n",
       "        vertical-align: top;\n",
       "    }\n",
       "\n",
       "    .dataframe thead th {\n",
       "        text-align: right;\n",
       "    }\n",
       "</style>\n",
       "<table border=\"1\" class=\"dataframe\">\n",
       "  <thead>\n",
       "    <tr style=\"text-align: right;\">\n",
       "      <th></th>\n",
       "      <th>Close</th>\n",
       "    </tr>\n",
       "    <tr>\n",
       "      <th>Date</th>\n",
       "      <th></th>\n",
       "    </tr>\n",
       "  </thead>\n",
       "  <tbody>\n",
       "    <tr>\n",
       "      <th>2019-08-20</th>\n",
       "      <td>-0.008149</td>\n",
       "    </tr>\n",
       "    <tr>\n",
       "      <th>2019-08-21</th>\n",
       "      <td>0.012227</td>\n",
       "    </tr>\n",
       "    <tr>\n",
       "      <th>2019-08-22</th>\n",
       "      <td>-0.010407</td>\n",
       "    </tr>\n",
       "    <tr>\n",
       "      <th>2019-08-23</th>\n",
       "      <td>-0.030974</td>\n",
       "    </tr>\n",
       "    <tr>\n",
       "      <th>2019-08-26</th>\n",
       "      <td>0.010942</td>\n",
       "    </tr>\n",
       "    <tr>\n",
       "      <th>2019-08-27</th>\n",
       "      <td>-0.003988</td>\n",
       "    </tr>\n",
       "    <tr>\n",
       "      <th>2019-08-28</th>\n",
       "      <td>0.001373</td>\n",
       "    </tr>\n",
       "    <tr>\n",
       "      <th>2019-08-29</th>\n",
       "      <td>0.012477</td>\n",
       "    </tr>\n",
       "    <tr>\n",
       "      <th>2019-08-30</th>\n",
       "      <td>-0.005675</td>\n",
       "    </tr>\n",
       "    <tr>\n",
       "      <th>2019-09-03</th>\n",
       "      <td>0.007599</td>\n",
       "    </tr>\n",
       "  </tbody>\n",
       "</table>\n",
       "</div>"
      ],
      "text/plain": [
       "               Close\n",
       "Date                \n",
       "2019-08-20 -0.008149\n",
       "2019-08-21  0.012227\n",
       "2019-08-22 -0.010407\n",
       "2019-08-23 -0.030974\n",
       "2019-08-26  0.010942\n",
       "2019-08-27 -0.003988\n",
       "2019-08-28  0.001373\n",
       "2019-08-29  0.012477\n",
       "2019-08-30 -0.005675\n",
       "2019-09-03  0.007599"
      ]
     },
     "execution_count": 13,
     "metadata": {},
     "output_type": "execute_result"
    }
   ],
   "source": [
    "log_returns.tail(10)"
   ]
  },
  {
   "cell_type": "code",
   "execution_count": 15,
   "metadata": {},
   "outputs": [
    {
     "data": {
      "text/plain": [
       "[<matplotlib.lines.Line2D at 0x29e476a7f08>]"
      ]
     },
     "execution_count": 15,
     "metadata": {},
     "output_type": "execute_result"
    },
    {
     "data": {
      "image/png": "[encoded data removed]",
      "text/plain": [
       "<Figure size 720x360 with 1 Axes>"
      ]
     },
     "metadata": {
      "needs_background": "light"
     },
     "output_type": "display_data"
    }
   ],
   "source": [
    "plt.figure(figsize=(10, 5))\n",
    "plt.plot(log_returns)"
   ]
  },
  {
   "cell_type": "code",
   "execution_count": 17,
   "metadata": {},
   "outputs": [],
   "source": [
    "scaler = MinMaxScaler()"
   ]
  },
  {
   "cell_type": "code",
   "execution_count": 18,
   "metadata": {},
   "outputs": [],
   "source": [
    "scaled_data = scaler.fit_transform(data)"
   ]
  },
  {
   "cell_type": "code",
   "execution_count": 19,
   "metadata": {},
   "outputs": [],
   "source": [
    "train_length = int(len(scaled_data) * 0.7)\n",
    "test_length = len(scaled_data) - train_length"
   ]
  },
  {
   "cell_type": "code",
   "execution_count": 21,
   "metadata": {},
   "outputs": [],
   "source": [
    "train_data = scaled_data[0:train_length,:]\n",
    "test_data = scaled_data[train_length:len(scaled_data),:]"
   ]
  },
  {
   "cell_type": "code",
   "execution_count": 24,
   "metadata": {},
   "outputs": [
    {
     "data": {
      "text/plain": [
       "(3344, 1434)"
      ]
     },
     "execution_count": 24,
     "metadata": {},
     "output_type": "execute_result"
    }
   ],
   "source": [
    "len(train_data), len(test_data)"
   ]
  },
  {
   "cell_type": "code",
   "execution_count": 23,
   "metadata": {},
   "outputs": [],
   "source": [
    "def dataset_creation(dataset, timestep = 1):\n",
    "    data_x, data_y = [], []\n",
    "    for i in range(len(dataset)-timestep - 1):\n",
    "        a = dataset[i:(i + timestep), 0]\n",
    "        data_x.append(a)\n",
    "        data_y.append(dataset[i + timestep, 0])\n",
    "    return np.array(data_x), np.array(data_y)"
   ]
  },
  {
   "cell_type": "code",
   "execution_count": 25,
   "metadata": {},
   "outputs": [],
   "source": [
    "timestep = 1\n",
    "train_x, train_y = dataset_creation(train_data, timestep)\n",
    "test_x, test_y = dataset_creation(test_data, timestep)"
   ]
  },
  {
   "cell_type": "code",
   "execution_count": 29,
   "metadata": {},
   "outputs": [],
   "source": [
    "train_x = np.reshape(train_x, (train_x.shape[0], 1, train_x.shape[1]))\n",
    "test_x = np.reshape(test_x, (test_x.shape[0], 1, test_x.shape[1]))"
   ]
  },
  {
   "cell_type": "code",
   "execution_count": 31,
   "metadata": {},
   "outputs": [
    {
     "name": "stderr",
     "output_type": "stream",
     "text": [
      "WARNING: Logging before flag parsing goes to stderr.\n",
      "W0922 16:29:18.897644 10428 deprecation_wrapper.py:119] From C:\\Users\\Patryk\\Anaconda3\\lib\\site-packages\\keras\\backend\\tensorflow_backend.py:74: The name tf.get_default_graph is deprecated. Please use tf.compat.v1.get_default_graph instead.\n",
      "\n"
     ]
    }
   ],
   "source": [
    "model = Sequential()"
   ]
  },
  {
   "cell_type": "code",
   "execution_count": 32,
   "metadata": {},
   "outputs": [
    {
     "name": "stderr",
     "output_type": "stream",
     "text": [
      "W0922 16:31:48.766103 10428 deprecation_wrapper.py:119] From C:\\Users\\Patryk\\Anaconda3\\lib\\site-packages\\keras\\backend\\tensorflow_backend.py:517: The name tf.placeholder is deprecated. Please use tf.compat.v1.placeholder instead.\n",
      "\n",
      "W0922 16:31:48.779572 10428 deprecation_wrapper.py:119] From C:\\Users\\Patryk\\Anaconda3\\lib\\site-packages\\keras\\backend\\tensorflow_backend.py:4138: The name tf.random_uniform is deprecated. Please use tf.random.uniform instead.\n",
      "\n"
     ]
    }
   ],
   "source": [
    "model.add(LSTM(256, input_shape=(1, timestep)))"
   ]
  },
  {
   "cell_type": "code",
   "execution_count": 33,
   "metadata": {},
   "outputs": [],
   "source": [
    "model.add(Dense(1, activation='sigmoid'))"
   ]
  },
  {
   "cell_type": "code",
   "execution_count": 35,
   "metadata": {},
   "outputs": [
    {
     "name": "stderr",
     "output_type": "stream",
     "text": [
      "W0922 16:34:22.941384 10428 deprecation_wrapper.py:119] From C:\\Users\\Patryk\\Anaconda3\\lib\\site-packages\\keras\\optimizers.py:790: The name tf.train.Optimizer is deprecated. Please use tf.compat.v1.train.Optimizer instead.\n",
      "\n"
     ]
    }
   ],
   "source": [
    "model.compile(loss='mean_squared_error',\n",
    "             optimizer='adam',\n",
    "             metrics=['accuracy'])"
   ]
  },
  {
   "cell_type": "code",
   "execution_count": 36,
   "metadata": {},
   "outputs": [
    {
     "name": "stderr",
     "output_type": "stream",
     "text": [
      "W0922 16:35:45.658560 10428 deprecation.py:323] From C:\\Users\\Patryk\\Anaconda3\\lib\\site-packages\\tensorflow\\python\\ops\\math_grad.py:1250: add_dispatch_support.<locals>.wrapper (from tensorflow.python.ops.array_ops) is deprecated and will be removed in a future version.\n",
      "Instructions for updating:\n",
      "Use tf.where in 2.0, which has the same broadcast rule as np.where\n",
      "W0922 16:35:46.078440 10428 deprecation_wrapper.py:119] From C:\\Users\\Patryk\\Anaconda3\\lib\\site-packages\\keras\\backend\\tensorflow_backend.py:986: The name tf.assign_add is deprecated. Please use tf.compat.v1.assign_add instead.\n",
      "\n",
      "W0922 16:35:46.143235 10428 deprecation_wrapper.py:119] From C:\\Users\\Patryk\\Anaconda3\\lib\\site-packages\\keras\\backend\\tensorflow_backend.py:973: The name tf.assign is deprecated. Please use tf.compat.v1.assign instead.\n",
      "\n"
     ]
    },
    {
     "name": "stdout",
     "output_type": "stream",
     "text": [
      "Epoch 1/100\n",
      "3342/3342 [==============================] - 17s 5ms/step - loss: 0.0048 - acc: 2.9922e-04\n",
      "Epoch 2/100\n",
      "3342/3342 [==============================] - 14s 4ms/step - loss: 1.6520e-04 - acc: 2.9922e-04\n",
      "Epoch 3/100\n",
      "3342/3342 [==============================] - 14s 4ms/step - loss: 1.5346e-04 - acc: 2.9922e-04\n",
      "Epoch 4/100\n",
      "3342/3342 [==============================] - 14s 4ms/step - loss: 1.4876e-04 - acc: 2.9922e-04\n",
      "Epoch 5/100\n",
      "3342/3342 [==============================] - 14s 4ms/step - loss: 1.3522e-04 - acc: 2.9922e-04\n",
      "Epoch 6/100\n",
      "3342/3342 [==============================] - 13s 4ms/step - loss: 1.3175e-04 - acc: 2.9922e-04\n",
      "Epoch 7/100\n",
      "3342/3342 [==============================] - 13s 4ms/step - loss: 1.2139e-04 - acc: 2.9922e-04\n",
      "Epoch 8/100\n",
      "3342/3342 [==============================] - 13s 4ms/step - loss: 1.1399e-04 - acc: 2.9922e-04\n",
      "Epoch 9/100\n",
      "3342/3342 [==============================] - 13s 4ms/step - loss: 1.0696e-04 - acc: 2.9922e-04\n",
      "Epoch 10/100\n",
      "3342/3342 [==============================] - 13s 4ms/step - loss: 9.5003e-05 - acc: 2.9922e-04\n",
      "Epoch 11/100\n",
      "3342/3342 [==============================] - 14s 4ms/step - loss: 8.1397e-05 - acc: 2.9922e-04\n",
      "Epoch 12/100\n",
      "3342/3342 [==============================] - 14s 4ms/step - loss: 6.6004e-05 - acc: 2.9922e-04\n",
      "Epoch 13/100\n",
      "3342/3342 [==============================] - 14s 4ms/step - loss: 4.7070e-05 - acc: 2.9922e-04\n",
      "Epoch 14/100\n",
      "3342/3342 [==============================] - 14s 4ms/step - loss: 3.2989e-05 - acc: 2.9922e-04\n",
      "Epoch 15/100\n",
      "3342/3342 [==============================] - 13s 4ms/step - loss: 2.7532e-05 - acc: 2.9922e-04\n",
      "Epoch 16/100\n",
      "3342/3342 [==============================] - 13s 4ms/step - loss: 2.7296e-05 - acc: 2.9922e-04\n",
      "Epoch 17/100\n",
      "3342/3342 [==============================] - 13s 4ms/step - loss: 2.6789e-05 - acc: 2.9922e-04\n",
      "Epoch 18/100\n",
      "3342/3342 [==============================] - 13s 4ms/step - loss: 2.6971e-05 - acc: 2.9922e-04\n",
      "Epoch 19/100\n",
      "3342/3342 [==============================] - 14s 4ms/step - loss: 2.6211e-05 - acc: 2.9922e-04\n",
      "Epoch 20/100\n",
      "3342/3342 [==============================] - 14s 4ms/step - loss: 2.5494e-05 - acc: 2.9922e-04\n",
      "Epoch 21/100\n",
      "3342/3342 [==============================] - 14s 4ms/step - loss: 2.4516e-05 - acc: 2.9922e-04\n",
      "Epoch 22/100\n",
      "3342/3342 [==============================] - 13s 4ms/step - loss: 2.5062e-05 - acc: 2.9922e-04\n",
      "Epoch 23/100\n",
      "3342/3342 [==============================] - 14s 4ms/step - loss: 2.4377e-05 - acc: 2.9922e-04\n",
      "Epoch 24/100\n",
      "3342/3342 [==============================] - 14s 4ms/step - loss: 2.3516e-05 - acc: 2.9922e-04\n",
      "Epoch 25/100\n",
      "3342/3342 [==============================] - 13s 4ms/step - loss: 2.2860e-05 - acc: 2.9922e-04\n",
      "Epoch 26/100\n",
      "3342/3342 [==============================] - 13s 4ms/step - loss: 2.1860e-05 - acc: 2.9922e-04\n",
      "Epoch 27/100\n",
      "3342/3342 [==============================] - 13s 4ms/step - loss: 1.9458e-05 - acc: 2.9922e-04\n",
      "Epoch 28/100\n",
      "3342/3342 [==============================] - 14s 4ms/step - loss: 1.6626e-05 - acc: 2.9922e-04\n",
      "Epoch 29/100\n",
      "3342/3342 [==============================] - 13s 4ms/step - loss: 1.3790e-05 - acc: 2.9922e-04\n",
      "Epoch 30/100\n",
      "3342/3342 [==============================] - 13s 4ms/step - loss: 1.1574e-05 - acc: 2.9922e-04\n",
      "Epoch 31/100\n",
      "3342/3342 [==============================] - 13s 4ms/step - loss: 1.0097e-05 - acc: 2.9922e-04\n",
      "Epoch 32/100\n",
      "3342/3342 [==============================] - 14s 4ms/step - loss: 8.9102e-06 - acc: 2.9922e-04\n",
      "Epoch 33/100\n",
      "3342/3342 [==============================] - 14s 4ms/step - loss: 7.7357e-06 - acc: 2.9922e-04\n",
      "Epoch 34/100\n",
      "3342/3342 [==============================] - 13s 4ms/step - loss: 6.5944e-06 - acc: 2.9922e-04\n",
      "Epoch 35/100\n",
      "3342/3342 [==============================] - 14s 4ms/step - loss: 6.0664e-06 - acc: 2.9922e-04\n",
      "Epoch 36/100\n",
      "3342/3342 [==============================] - 14s 4ms/step - loss: 5.6545e-06 - acc: 2.9922e-04\n",
      "Epoch 37/100\n",
      "3342/3342 [==============================] - 14s 4ms/step - loss: 5.1236e-06 - acc: 2.9922e-04\n",
      "Epoch 38/100\n",
      "3342/3342 [==============================] - 14s 4ms/step - loss: 5.0558e-06 - acc: 2.9922e-04\n",
      "Epoch 39/100\n",
      "3342/3342 [==============================] - 14s 4ms/step - loss: 4.9052e-06 - acc: 2.9922e-04\n",
      "Epoch 40/100\n",
      "3342/3342 [==============================] - 14s 4ms/step - loss: 4.4010e-06 - acc: 2.9922e-04\n",
      "Epoch 41/100\n",
      "3342/3342 [==============================] - 14s 4ms/step - loss: 4.4470e-06 - acc: 2.9922e-04\n",
      "Epoch 42/100\n",
      "3342/3342 [==============================] - 14s 4ms/step - loss: 4.1155e-06 - acc: 2.9922e-04\n",
      "Epoch 43/100\n",
      "3342/3342 [==============================] - 13s 4ms/step - loss: 4.3129e-06 - acc: 2.9922e-04\n",
      "Epoch 44/100\n",
      "3342/3342 [==============================] - 13s 4ms/step - loss: 3.8018e-06 - acc: 2.9922e-04\n",
      "Epoch 45/100\n",
      "3342/3342 [==============================] - 14s 4ms/step - loss: 4.0046e-06 - acc: 2.9922e-04\n",
      "Epoch 46/100\n",
      "3342/3342 [==============================] - 14s 4ms/step - loss: 3.8786e-06 - acc: 2.9922e-04\n",
      "Epoch 47/100\n",
      "3342/3342 [==============================] - 14s 4ms/step - loss: 3.4861e-06 - acc: 2.9922e-04\n",
      "Epoch 48/100\n",
      "3342/3342 [==============================] - 13s 4ms/step - loss: 3.5486e-06 - acc: 2.9922e-04\n",
      "Epoch 49/100\n",
      "3342/3342 [==============================] - 13s 4ms/step - loss: 3.7607e-06 - acc: 2.9922e-04\n",
      "Epoch 50/100\n",
      "3342/3342 [==============================] - 13s 4ms/step - loss: 3.5001e-06 - acc: 2.9922e-04\n",
      "Epoch 51/100\n",
      "3342/3342 [==============================] - 13s 4ms/step - loss: 3.3654e-06 - acc: 2.9922e-04\n",
      "Epoch 52/100\n",
      "3342/3342 [==============================] - 13s 4ms/step - loss: 3.4749e-06 - acc: 2.9922e-04\n",
      "Epoch 53/100\n",
      "3342/3342 [==============================] - 13s 4ms/step - loss: 3.2773e-06 - acc: 2.9922e-04\n",
      "Epoch 54/100\n",
      "3342/3342 [==============================] - 13s 4ms/step - loss: 3.3524e-06 - acc: 2.9922e-04\n",
      "Epoch 55/100\n",
      "3342/3342 [==============================] - 13s 4ms/step - loss: 3.2075e-06 - acc: 2.9922e-04\n",
      "Epoch 56/100\n",
      "3342/3342 [==============================] - 14s 4ms/step - loss: 3.2873e-06 - acc: 2.9922e-04\n",
      "Epoch 57/100\n",
      "3342/3342 [==============================] - 14s 4ms/step - loss: 3.2860e-06 - acc: 2.9922e-04\n",
      "Epoch 58/100\n",
      "3342/3342 [==============================] - 14s 4ms/step - loss: 3.1336e-06 - acc: 2.9922e-04\n",
      "Epoch 59/100\n",
      "3342/3342 [==============================] - 13s 4ms/step - loss: 3.2196e-06 - acc: 2.9922e-04\n",
      "Epoch 60/100\n",
      "3342/3342 [==============================] - 14s 4ms/step - loss: 3.1118e-06 - acc: 2.9922e-04\n",
      "Epoch 61/100\n",
      "3342/3342 [==============================] - 14s 4ms/step - loss: 3.1391e-06 - acc: 2.9922e-04\n",
      "Epoch 62/100\n",
      "3342/3342 [==============================] - 14s 4ms/step - loss: 3.0269e-06 - acc: 2.9922e-04\n",
      "Epoch 63/100\n",
      "3342/3342 [==============================] - 14s 4ms/step - loss: 3.1112e-06 - acc: 2.9922e-04\n",
      "Epoch 64/100\n",
      "3342/3342 [==============================] - 14s 4ms/step - loss: 3.0622e-06 - acc: 2.9922e-04\n",
      "Epoch 65/100\n",
      "3342/3342 [==============================] - 14s 4ms/step - loss: 3.1095e-06 - acc: 2.9922e-04\n",
      "Epoch 66/100\n",
      "3342/3342 [==============================] - 13s 4ms/step - loss: 3.0412e-06 - acc: 2.9922e-04\n",
      "Epoch 67/100\n",
      "3342/3342 [==============================] - 14s 4ms/step - loss: 3.0059e-06 - acc: 2.9922e-04\n",
      "Epoch 68/100\n",
      "3342/3342 [==============================] - 14s 4ms/step - loss: 3.0878e-06 - acc: 2.9922e-04\n",
      "Epoch 69/100\n",
      "3342/3342 [==============================] - 14s 4ms/step - loss: 2.9499e-06 - acc: 2.9922e-04\n",
      "Epoch 70/100\n",
      "3342/3342 [==============================] - 14s 4ms/step - loss: 3.0523e-06 - acc: 2.9922e-04\n",
      "Epoch 71/100\n",
      "3342/3342 [==============================] - 14s 4ms/step - loss: 2.9782e-06 - acc: 2.9922e-04\n",
      "Epoch 72/100\n",
      "3342/3342 [==============================] - 13s 4ms/step - loss: 2.7724e-06 - acc: 2.9922e-04\n",
      "Epoch 73/100\n",
      "3342/3342 [==============================] - 13s 4ms/step - loss: 2.9180e-06 - acc: 2.9922e-04\n",
      "Epoch 74/100\n",
      "3342/3342 [==============================] - 13s 4ms/step - loss: 2.6897e-06 - acc: 2.9922e-04\n",
      "Epoch 75/100\n",
      "3342/3342 [==============================] - 13s 4ms/step - loss: 2.8885e-06 - acc: 2.9922e-04\n",
      "Epoch 76/100\n",
      "3342/3342 [==============================] - 13s 4ms/step - loss: 2.7217e-06 - acc: 2.9922e-04\n"
     ]
    },
    {
     "name": "stdout",
     "output_type": "stream",
     "text": [
      "Epoch 77/100\n",
      "3342/3342 [==============================] - 13s 4ms/step - loss: 3.0369e-06 - acc: 2.9922e-04\n",
      "Epoch 78/100\n",
      "3342/3342 [==============================] - 13s 4ms/step - loss: 2.8242e-06 - acc: 2.9922e-04\n",
      "Epoch 79/100\n",
      "3342/3342 [==============================] - 13s 4ms/step - loss: 2.7055e-06 - acc: 2.9922e-04\n",
      "Epoch 80/100\n",
      "3342/3342 [==============================] - 13s 4ms/step - loss: 2.7856e-06 - acc: 2.9922e-04\n",
      "Epoch 81/100\n",
      "3342/3342 [==============================] - 13s 4ms/step - loss: 2.8450e-06 - acc: 2.9922e-04\n",
      "Epoch 82/100\n",
      "3342/3342 [==============================] - 13s 4ms/step - loss: 2.8777e-06 - acc: 2.9922e-04\n",
      "Epoch 83/100\n",
      "3342/3342 [==============================] - 13s 4ms/step - loss: 2.7161e-06 - acc: 2.9922e-04\n",
      "Epoch 84/100\n",
      "3342/3342 [==============================] - 13s 4ms/step - loss: 2.5750e-06 - acc: 2.9922e-04\n",
      "Epoch 85/100\n",
      "3342/3342 [==============================] - 13s 4ms/step - loss: 2.5562e-06 - acc: 2.9922e-04\n",
      "Epoch 86/100\n",
      "3342/3342 [==============================] - 13s 4ms/step - loss: 2.5869e-06 - acc: 2.9922e-04\n",
      "Epoch 87/100\n",
      "3342/3342 [==============================] - 13s 4ms/step - loss: 2.5892e-06 - acc: 2.9922e-04\n",
      "Epoch 88/100\n",
      "3342/3342 [==============================] - 13s 4ms/step - loss: 2.4770e-06 - acc: 2.9922e-04\n",
      "Epoch 89/100\n",
      "3342/3342 [==============================] - 13s 4ms/step - loss: 2.6844e-06 - acc: 2.9922e-04\n",
      "Epoch 90/100\n",
      "3342/3342 [==============================] - 14s 4ms/step - loss: 2.5668e-06 - acc: 2.9922e-04\n",
      "Epoch 91/100\n",
      "3342/3342 [==============================] - 13s 4ms/step - loss: 2.5418e-06 - acc: 2.9922e-04\n",
      "Epoch 92/100\n",
      "3342/3342 [==============================] - 13s 4ms/step - loss: 2.5280e-06 - acc: 2.9922e-04\n",
      "Epoch 93/100\n",
      "3342/3342 [==============================] - 13s 4ms/step - loss: 2.6508e-06 - acc: 2.9922e-04\n",
      "Epoch 94/100\n",
      "3342/3342 [==============================] - 13s 4ms/step - loss: 2.5656e-06 - acc: 2.9922e-04\n",
      "Epoch 95/100\n",
      "3342/3342 [==============================] - 13s 4ms/step - loss: 2.5347e-06 - acc: 2.9922e-04\n",
      "Epoch 96/100\n",
      "3342/3342 [==============================] - 13s 4ms/step - loss: 2.5903e-06 - acc: 2.9922e-04\n",
      "Epoch 97/100\n",
      "3342/3342 [==============================] - 14s 4ms/step - loss: 2.4873e-06 - acc: 2.9922e-04\n",
      "Epoch 98/100\n",
      "3342/3342 [==============================] - 14s 4ms/step - loss: 2.4385e-06 - acc: 2.9922e-04\n",
      "Epoch 99/100\n",
      "3342/3342 [==============================] - 14s 4ms/step - loss: 2.5225e-06 - acc: 2.9922e-04\n",
      "Epoch 100/100\n",
      "3342/3342 [==============================] - 13s 4ms/step - loss: 2.4815e-06 - acc: 2.9922e-04\n"
     ]
    },
    {
     "data": {
      "text/plain": [
       "<keras.callbacks.History at 0x29e510ddb08>"
      ]
     },
     "execution_count": 36,
     "metadata": {},
     "output_type": "execute_result"
    }
   ],
   "source": [
    "model.fit(train_x, train_y, epochs=100, batch_size=1, verbose=1)"
   ]
  },
  {
   "cell_type": "code",
   "execution_count": 38,
   "metadata": {},
   "outputs": [
    {
     "name": "stdout",
     "output_type": "stream",
     "text": [
      "_________________________________________________________________\n",
      "Layer (type)                 Output Shape              Param #   \n",
      "=================================================================\n",
      "lstm_1 (LSTM)                (None, 256)               264192    \n",
      "_________________________________________________________________\n",
      "dense_1 (Dense)              (None, 1)                 257       \n",
      "=================================================================\n",
      "Total params: 264,449\n",
      "Trainable params: 264,449\n",
      "Non-trainable params: 0\n",
      "_________________________________________________________________\n"
     ]
    }
   ],
   "source": [
    "model.summary()"
   ]
  },
  {
   "cell_type": "code",
   "execution_count": 39,
   "metadata": {},
   "outputs": [
    {
     "name": "stdout",
     "output_type": "stream",
     "text": [
      "Keras Model Loss =  2.8752109076361547e-06\n",
      "Keras Model Accuracy =  0.0002992220227408737\n"
     ]
    }
   ],
   "source": [
    "score = model.evaluate(train_x, train_y, verbose=0)\n",
    "print('Keras Model Loss = ', score[0])\n",
    "print('Keras Model Accuracy = ', score[1])"
   ]
  },
  {
   "cell_type": "code",
   "execution_count": 40,
   "metadata": {},
   "outputs": [],
   "source": [
    "train_prediction = model.predict(train_x)\n",
    "test_prediction = model.predict(test_x)"
   ]
  },
  {
   "cell_type": "code",
   "execution_count": 41,
   "metadata": {},
   "outputs": [],
   "source": [
    "final_train_prediction = scaler.inverse_transform(train_prediction)\n",
    "final_train_y = scaler.inverse_transform([train_y])\n",
    "final_test_prediction = scaler.inverse_transform(test_prediction)\n",
    "final_test_y = scaler.inverse_transform([test_y])"
   ]
  },
  {
   "cell_type": "code",
   "execution_count": 42,
   "metadata": {},
   "outputs": [],
   "source": [
    "train_prediction_plot = np.empty_like(scaled_data)\n",
    "train_prediction_plot[:,:] = np.nan\n",
    "train_prediction_plot[1:len(final_train_prediction)+1, :] = final_train_prediction"
   ]
  },
  {
   "cell_type": "code",
   "execution_count": 43,
   "metadata": {},
   "outputs": [],
   "source": [
    "test_prediction_plot = np.empty_like(scaled_data)\n",
    "test_prediction_plot[:,:] = np.nan\n",
    "test_prediction_plot[len(final_train_prediction) + (1*2) + 1: len(scaled_data) - 1, :] = final_test_prediction"
   ]
  },
  {
   "cell_type": "code",
   "execution_count": 44,
   "metadata": {},
   "outputs": [
    {
     "data": {
      "image/png": "[encoded data removed]",
      "text/plain": [
       "<Figure size 432x288 with 1 Axes>"
      ]
     },
     "metadata": {
      "needs_background": "light"
     },
     "output_type": "display_data"
    }
   ],
   "source": [
    "plt.plot(scaler.inverse_transform(scaled_data))\n",
    "plt.plot(train_prediction_plot)\n",
    "plt.plot(test_prediction_plot)\n",
    "plt.show()"
   ]
  },
  {
   "cell_type": "code",
   "execution_count": null,
   "metadata": {},
   "outputs": [],
   "source": []
  }
 ],
 "metadata": {
  "kernelspec": {
   "display_name": "Python 3",
   "language": "python",
   "name": "python3"
  },
  "language_info": {
   "codemirror_mode": {
    "name": "ipython",
    "version": 3
   },
   "file_extension": ".py",
   "mimetype": "text/x-python",
   "name": "python",
   "nbconvert_exporter": "python",
   "pygments_lexer": "ipython3",
   "version": "3.7.4"
  }
 },
 "nbformat": 4,
 "nbformat_minor": 2
}
